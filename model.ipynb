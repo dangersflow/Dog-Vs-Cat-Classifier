{
 "cells": [
  {
   "cell_type": "code",
   "execution_count": 4,
   "metadata": {},
   "outputs": [
    {
     "name": "stdout",
     "output_type": "stream",
     "text": [
      "Num GPUs Available:  1\n"
     ]
    }
   ],
   "source": [
    "import tensorflow as tf\n",
    "from tensorflow import keras\n",
    "from tensorflow.keras.models import Sequential\n",
    "from tensorflow.keras.layers import Dense, Dropout, Activation, Flatten, Conv2D, MaxPooling2D\n",
    "import numpy as np\n",
    "import matplotlib.pyplot as plt\n",
    "import pickle\n",
    "import sys\n",
    "import os\n",
    "from os import path, listdir\n",
    "\n",
    "x_train = pickle.load(open(\"X_train.pickle\", \"rb\"))\n",
    "y_train = pickle.load(open(\"y_train.pickle\", \"rb\"))\n",
    "x_test = pickle.load(open(\"X_test.pickle\", \"rb\"))\n",
    "y_test = pickle.load(open(\"y_test.pickle\", \"rb\"))\n",
    "\n",
    "print(\"Num GPUs Available: \", len(tf.config.experimental.list_physical_devices('GPU')))\n"
   ]
  },
  {
   "cell_type": "code",
   "execution_count": 5,
   "metadata": {},
   "outputs": [
    {
     "data": {
      "text/plain": [
       "(18212, 150, 150, 1)"
      ]
     },
     "execution_count": 5,
     "metadata": {},
     "output_type": "execute_result"
    }
   ],
   "source": [
    "x_train.shape\n"
   ]
  },
  {
   "cell_type": "code",
   "execution_count": 6,
   "metadata": {},
   "outputs": [
    {
     "data": {
      "text/plain": [
       "(18212,)"
      ]
     },
     "execution_count": 6,
     "metadata": {},
     "output_type": "execute_result"
    }
   ],
   "source": [
    "y_train.shape"
   ]
  },
  {
   "cell_type": "code",
   "execution_count": 8,
   "metadata": {},
   "outputs": [
    {
     "name": "stdout",
     "output_type": "stream",
     "text": [
      "Epoch 1/10\n",
      "  1/570 [..............................] - ETA: 43:06 - loss: 0.6950 - accuracy: 0.5625WARNING:tensorflow:Callbacks method `on_train_batch_end` is slow compared to the batch time (batch time: 0.0070s vs `on_train_batch_end` time: 0.0160s). Check your callbacks.\n",
      "570/570 [==============================] - 19s 33ms/step - loss: 0.6729 - accuracy: 0.6092\n",
      "Epoch 2/10\n",
      "570/570 [==============================] - 14s 25ms/step - loss: 0.5172 - accuracy: 0.7413\n",
      "Epoch 3/10\n",
      "570/570 [==============================] - 14s 24ms/step - loss: 0.4140 - accuracy: 0.8053\n",
      "Epoch 4/10\n",
      "570/570 [==============================] - 15s 25ms/step - loss: 0.2350 - accuracy: 0.9005\n",
      "Epoch 5/10\n",
      "570/570 [==============================] - 16s 29ms/step - loss: 0.0996 - accuracy: 0.9605\n",
      "Epoch 6/10\n",
      "570/570 [==============================] - 16s 27ms/step - loss: 0.0640 - accuracy: 0.9751\n",
      "Epoch 7/10\n",
      "570/570 [==============================] - 15s 26ms/step - loss: 0.0333 - accuracy: 0.9874\n",
      "Epoch 8/10\n",
      "570/570 [==============================] - 15s 27ms/step - loss: 0.0291 - accuracy: 0.9884\n",
      "Epoch 9/10\n",
      "570/570 [==============================] - 14s 25ms/step - loss: 0.0271 - accuracy: 0.9900\n",
      "Epoch 10/10\n",
      "570/570 [==============================] - 15s 26ms/step - loss: 0.0236 - accuracy: 0.9920\n",
      "213/213 - 1s - loss: 2.2895 - accuracy: 0.6833\n",
      "\n",
      "Test accuracy: 0.6833186149597168\n"
     ]
    }
   ],
   "source": [
    "model = Sequential()\n",
    "\n",
    "'''\n",
    "model.add(Conv2D(32, (5, 5), input_shape=x.shape[1:], strides=(2, 2)))\n",
    "model.add(Activation(\"relu\"))\n",
    "model.add(MaxPooling2D(pool_size=(2, 2)))\n",
    "\n",
    "model.add(Conv2D(64, (3, 3)))\n",
    "model.add(Activation(\"relu\"))\n",
    "model.add(MaxPooling2D(pool_size=(2, 2)))\n",
    "\n",
    "model.add(Conv2D(128, (3, 3)))\n",
    "model.add(Activation(\"relu\"))\n",
    "model.add(MaxPooling2D(pool_size=(2, 2)))\n",
    "\n",
    "model.add(Flatten())\n",
    "\n",
    "model.add(Dense(128, activation=\"softmax\"))\n",
    "\n",
    "model.compile(loss=\"sparse_categorical_crossentropy\",\n",
    "              optimizer=\"adam\",\n",
    "              metrics=['accuracy'])\n",
    "'''\n",
    "\n",
    "model.add(Conv2D(32, (3, 3), activation='relu', input_shape=x_train.shape[1:]))\n",
    "model.add(MaxPooling2D((2, 2)))\n",
    "model.add(Conv2D(64, (3, 3), activation='relu'))\n",
    "model.add(MaxPooling2D((2, 2)))\n",
    "model.add(Conv2D(64, (3, 3), activation='relu'))\n",
    "\n",
    "model.add(Flatten())\n",
    "model.add(Dense(64, activation='relu'))\n",
    "model.add(Dense(2, activation='softmax'))\n",
    "\n",
    "\n",
    "model.compile(loss=\"sparse_categorical_crossentropy\",\n",
    "              optimizer=\"adam\",\n",
    "              metrics=['accuracy'])\n",
    "\n",
    "for i in range(1, 2):\n",
    "    model.fit(x_train, y_train, batch_size=32, epochs=10)\n",
    "    test_loss, test_acc = model.evaluate(x_test,  y_test, verbose=2)\n",
    "    print('\\nTest accuracy:', test_acc)\n"
   ]
  },
  {
   "cell_type": "code",
   "execution_count": 10,
   "metadata": {},
   "outputs": [
    {
     "name": "stdout",
     "output_type": "stream",
     "text": [
      "[0.2689425  0.73105747]\n",
      "1\n"
     ]
    }
   ],
   "source": [
    "probability_model = Sequential([model, tf.keras.layers.Softmax()])\n",
    "\n",
    "predictions = probability_model.predict(x_test)\n",
    "\n",
    "print(predictions[0])\n",
    "print(y_test[0])"
   ]
  },
  {
   "cell_type": "code",
   "execution_count": null,
   "metadata": {},
   "outputs": [],
   "source": []
  }
 ],
 "metadata": {
  "kernelspec": {
   "display_name": "Python 3",
   "language": "python",
   "name": "python3"
  },
  "language_info": {
   "codemirror_mode": {
    "name": "ipython",
    "version": 3
   },
   "file_extension": ".py",
   "mimetype": "text/x-python",
   "name": "python",
   "nbconvert_exporter": "python",
   "pygments_lexer": "ipython3",
   "version": "3.8.5"
  }
 },
 "nbformat": 4,
 "nbformat_minor": 4
}
