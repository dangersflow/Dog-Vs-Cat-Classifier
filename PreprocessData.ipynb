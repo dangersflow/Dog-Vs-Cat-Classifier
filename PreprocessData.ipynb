{
 "cells": [
  {
   "cell_type": "code",
   "execution_count": 4,
   "metadata": {},
   "outputs": [],
   "source": [
    "import os\n",
    "from os import path\n",
    "from os import listdir\n",
    "from os.path import isfile, join\n",
    "from PIL import Image, ImageEnhance"
   ]
  },
  {
   "cell_type": "code",
   "execution_count": 18,
   "metadata": {},
   "outputs": [
    {
     "name": "stderr",
     "output_type": "stream",
     "text": [
      "c:\\users\\pacog\\appdata\\local\\programs\\python\\python38\\lib\\site-packages\\PIL\\TiffImagePlugin.py:763: UserWarning: Possibly corrupt EXIF data.  Expecting to read 32 bytes but only got 0. Skipping tag 270\n",
      "  warnings.warn(\n",
      "c:\\users\\pacog\\appdata\\local\\programs\\python\\python38\\lib\\site-packages\\PIL\\TiffImagePlugin.py:763: UserWarning: Possibly corrupt EXIF data.  Expecting to read 5 bytes but only got 0. Skipping tag 271\n",
      "  warnings.warn(\n",
      "c:\\users\\pacog\\appdata\\local\\programs\\python\\python38\\lib\\site-packages\\PIL\\TiffImagePlugin.py:763: UserWarning: Possibly corrupt EXIF data.  Expecting to read 8 bytes but only got 0. Skipping tag 272\n",
      "  warnings.warn(\n",
      "c:\\users\\pacog\\appdata\\local\\programs\\python\\python38\\lib\\site-packages\\PIL\\TiffImagePlugin.py:763: UserWarning: Possibly corrupt EXIF data.  Expecting to read 8 bytes but only got 0. Skipping tag 282\n",
      "  warnings.warn(\n",
      "c:\\users\\pacog\\appdata\\local\\programs\\python\\python38\\lib\\site-packages\\PIL\\TiffImagePlugin.py:763: UserWarning: Possibly corrupt EXIF data.  Expecting to read 8 bytes but only got 0. Skipping tag 283\n",
      "  warnings.warn(\n",
      "c:\\users\\pacog\\appdata\\local\\programs\\python\\python38\\lib\\site-packages\\PIL\\TiffImagePlugin.py:763: UserWarning: Possibly corrupt EXIF data.  Expecting to read 20 bytes but only got 0. Skipping tag 306\n",
      "  warnings.warn(\n",
      "c:\\users\\pacog\\appdata\\local\\programs\\python\\python38\\lib\\site-packages\\PIL\\TiffImagePlugin.py:763: UserWarning: Possibly corrupt EXIF data.  Expecting to read 48 bytes but only got 0. Skipping tag 532\n",
      "  warnings.warn(\n",
      "c:\\users\\pacog\\appdata\\local\\programs\\python\\python38\\lib\\site-packages\\PIL\\TiffImagePlugin.py:785: UserWarning: Corrupt EXIF data.  Expecting to read 2 bytes but only got 0. \n",
      "  warnings.warn(str(msg))\n"
     ]
    },
    {
     "data": {
      "text/plain": [
       "<__main__.ImageCleaner at 0x195f074b9a0>"
      ]
     },
     "execution_count": 18,
     "metadata": {},
     "output_type": "execute_result"
    }
   ],
   "source": [
    "class ImageCleaner:\n",
    "    def __init__(self, size=150, threshold=110, filepath=\"C:/Datasets/PetImages/\"):\n",
    "        #if main folder has different folders inside\n",
    "        classes = [\"Cat\", \"Dog\"]\n",
    "        images = []\n",
    "        \n",
    "        #modify this to take into account multiple classes\n",
    "        for class_name in range(len(classes)):\n",
    "            new_images = [f for f in listdir(filepath + classes[class_name]) if isfile(join(filepath + classes[class_name], f))]\n",
    "            images.append(new_images)\n",
    "            \n",
    "        #modify this as well with however many paths you have\n",
    "        for class_name in range(len(classes)):\n",
    "            if not path.exists(filepath+\"Grayscale/\" + classes[class_name]):\n",
    "                os.makedirs(filepath+\"Grayscale/\" + classes[class_name])\n",
    "\n",
    "        # threshold (25% of 255)\n",
    "\n",
    "        #for however many classes you have\n",
    "        for class_name in range(len(classes)):\n",
    "            for file_name in images[class_name]:\n",
    "                try:\n",
    "                    image = Image.open(filepath+classes[class_name]+\"/\"+file_name)\n",
    "                    # image enhancers\n",
    "                    sharpness = ImageEnhance.Sharpness(image.convert('RGB'))\n",
    "                    image = sharpness.enhance(1.5)\n",
    "                    contrast = ImageEnhance.Contrast(image.convert('RGB'))\n",
    "                    image = contrast.enhance(2.0)\n",
    "                    image = image.convert('L')\n",
    "                    image = image.point(lambda i: i > threshold and 255)\n",
    "                    image = image.resize((size, size))\n",
    "                    if \".jpg\" not in file_name:\n",
    "                        file_name += \".jpg\"\n",
    "                    image.save(filepath+\"Grayscale/\"+classes[class_name]+\"/\"+file_name)\n",
    "                except Exception as e:\n",
    "                    pass\n",
    "\n",
    "\n",
    "ImageCleaner()"
   ]
  },
  {
   "cell_type": "code",
   "execution_count": null,
   "metadata": {},
   "outputs": [],
   "source": []
  },
  {
   "cell_type": "code",
   "execution_count": null,
   "metadata": {},
   "outputs": [],
   "source": []
  }
 ],
 "metadata": {
  "kernelspec": {
   "display_name": "Python 3",
   "language": "python",
   "name": "python3"
  },
  "language_info": {
   "codemirror_mode": {
    "name": "ipython",
    "version": 3
   },
   "file_extension": ".py",
   "mimetype": "text/x-python",
   "name": "python",
   "nbconvert_exporter": "python",
   "pygments_lexer": "ipython3",
   "version": "3.8.5"
  }
 },
 "nbformat": 4,
 "nbformat_minor": 4
}
